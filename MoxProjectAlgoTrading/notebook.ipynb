{
 "cells": [
  {
   "cell_type": "code",
   "execution_count": 9,
   "id": "bad5b29f",
   "metadata": {},
   "outputs": [],
   "source": [
    "# from moccasin import setup_notebook\n",
    "\n",
    "# setup_notebook()"
   ]
  },
  {
   "cell_type": "code",
   "execution_count": 10,
   "id": "819ed2ef",
   "metadata": {},
   "outputs": [
    {
     "name": "stdout",
     "output_type": "stream",
     "text": [
      "eth-forked\n"
     ]
    }
   ],
   "source": [
    "from moccasin.config import get_active_network\n",
    "active_netwrork = get_active_network()\n",
    "print(active_netwrork.name)"
   ]
  },
  {
   "cell_type": "code",
   "execution_count": 11,
   "id": "d7793630",
   "metadata": {},
   "outputs": [
    {
     "name": "stdout",
     "output_type": "stream",
     "text": [
      "Starting setup script...\n",
      "Starting balance of the weth: 2000000000000000000\n",
      "After deposit:\n",
      "ETH: 999000000000000000000\n",
      "WETH: 3000000000000000000\n",
      "USDC: 300000000\n",
      "Name: Wrapped Ether\n"
     ]
    }
   ],
   "source": [
    "from boa.contracts.abi.abi_contract import ABIContract\n",
    "from typing import Tuple\n",
    "from moccasin.config import get_active_network\n",
    "import boa \n",
    "\n",
    "STARTING_ETH_BALANCE = int(1000e18)\n",
    "STARTING_WETH_BALANCE = int(1e18)\n",
    "STARTING_USDC_BALANCE = int(100e6)\n",
    "\n",
    "def _add_eth_balance():\n",
    "    boa.env.set_balance(boa.env.eoa, STARTING_ETH_BALANCE)\n",
    "\n",
    "def _add_token_balance(usdc, weth):\n",
    "    print(f\"Starting balance of the weth: {weth.balanceOf(boa.env.eoa)}\")\n",
    "    weth.deposit(value = STARTING_WETH_BALANCE)\n",
    "    our_address = boa.env.eoa\n",
    "    with boa.env.prank(usdc.owner()):\n",
    "        usdc.updateMasterMinter(our_address)\n",
    "\n",
    "    usdc.configureMinter(our_address, STARTING_USDC_BALANCE)\n",
    "    usdc.mint(our_address, STARTING_USDC_BALANCE)\n",
    "    print(\"After deposit:\")\n",
    "    print(\"ETH:\", boa.env.get_balance(boa.env.eoa))\n",
    "    print(\"WETH:\", weth.balanceOf(boa.env.eoa))\n",
    "    print(\"USDC:\", usdc.balanceOf(boa.env.eoa))\n",
    "    print(f\"Name: {weth.name()}\")\n",
    "\n",
    "def setup_script() -> Tuple[ABIContract, ABIContract,ABIContract,ABIContract]:\n",
    "    print(\"Starting setup script...\")\n",
    "\n",
    "    active_netwrork = get_active_network()\n",
    "\n",
    "    usdc = active_netwrork.manifest_named(\"usdc\")\n",
    "    weth = active_netwrork.manifest_named(\"weth\")\n",
    "\n",
    "    if active_netwrork.is_local_or_forked_network():\n",
    "        _add_eth_balance()\n",
    "        _add_token_balance(usdc,weth)\n",
    "\n",
    "def moccasin_main():\n",
    "    setup_script()\n",
    "\n",
    "moccasin_main()"
   ]
  },
  {
   "cell_type": "code",
   "execution_count": 12,
   "id": "090333d4",
   "metadata": {},
   "outputs": [],
   "source": [
    "usdc = active_netwrork.manifest_named(\"usdc\")\n",
    "weth = active_netwrork.manifest_named(\"weth\")"
   ]
  },
  {
   "cell_type": "code",
   "execution_count": 14,
   "id": "a7c26ed9",
   "metadata": {},
   "outputs": [
    {
     "name": "stdout",
     "output_type": "stream",
     "text": [
      "0x87870Bca3F3fD6335C3F4ce8392D69350B4fA4E2\n"
     ]
    }
   ],
   "source": [
    "from moccasin.config import get_config\n",
    "config= get_config()\n",
    "config.reload()\n",
    "active_netwrork = config.get_active_network()\n",
    "aavev3_pool_addresses_provider = active_netwrork.manifest_named(\"aavev3_pool_addresses_provider\")\n",
    "pool_address = aavev3_pool_addresses_provider.getPool()\n",
    "print(pool_address)"
   ]
  },
  {
   "cell_type": "code",
   "execution_count": 17,
   "id": "541d969d",
   "metadata": {},
   "outputs": [],
   "source": [
    "config.reload()\n",
    "active_netwrork = config.get_active_network()\n",
    "pool_contract = active_netwrork.manifest_named(\"pool\", address = pool_address)"
   ]
  },
  {
   "cell_type": "code",
   "execution_count": 19,
   "id": "788b0918",
   "metadata": {},
   "outputs": [
    {
     "name": "stdout",
     "output_type": "stream",
     "text": [
      "User Account Data \n",
      " totalCollateralBase = 795747514812, \n",
      " totalDebtBase = 0, \n",
      " availableBorrowsBase = 638905679643 \n",
      " currentLiquidationThreshold = 8281 \n",
      " ltv = 8029 \n",
      " healthFactor = 115792089237316195423570985008687907853269984665640564039457584007913129639935\n"
     ]
    }
   ],
   "source": [
    "REFFERAL_CODE = 0\n",
    "def deposit(pool_contract, token, amount):\n",
    "    allowed_amout = token.allowance(boa.env.eoa, pool_contract.address)\n",
    "    if allowed_amout < amount:\n",
    "        token.approve(pool_contract.address, amount)\n",
    "    print(f\"Depositing {token.name()} into Aave contract {pool_contract.address}\")\n",
    "    pool_contract.supply(token.address, amount, boa.env.eoa, REFFERAL_CODE)\n",
    "\n",
    "usdc_balance = usdc.balanceOf(boa.env.eoa)\n",
    "weth_balance = weth.balanceOf(boa.env.eoa)\n",
    "if usdc_balance > 0:\n",
    "    deposit(pool_contract, usdc, usdc_balance)\n",
    "\n",
    "if weth_balance > 0:\n",
    "    deposit(pool_contract, weth, weth_balance)\n",
    "\n",
    "(totalCollateralBase,   \n",
    "totalDebtBase,   \n",
    "availableBorrowsBase,\n",
    "currentLiquidationThreshold, \n",
    "ltv,    \n",
    "healthFactor) = pool_contract.getUserAccountData(boa.env.eoa)\n",
    "print(f\"User Account Data \\n totalCollateralBase = {totalCollateralBase}, \\n totalDebtBase = {totalDebtBase}, \\n availableBorrowsBase = {availableBorrowsBase} \\n currentLiquidationThreshold = {currentLiquidationThreshold} \\n ltv = {ltv} \\n healthFactor = {healthFactor}\")\n",
    "\n"
   ]
  }
 ],
 "metadata": {
  "kernelspec": {
   "display_name": ".venv",
   "language": "python",
   "name": "python3"
  },
  "language_info": {
   "codemirror_mode": {
    "name": "ipython",
    "version": 3
   },
   "file_extension": ".py",
   "mimetype": "text/x-python",
   "name": "python",
   "nbconvert_exporter": "python",
   "pygments_lexer": "ipython3",
   "version": "3.12.5"
  }
 },
 "nbformat": 4,
 "nbformat_minor": 5
}
