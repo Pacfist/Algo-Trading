{
 "cells": [
  {
   "cell_type": "code",
   "execution_count": 1,
   "id": "bad5b29f",
   "metadata": {},
   "outputs": [],
   "source": [
    "# from moccasin import setup_notebook\n",
    "\n",
    "# setup_notebook()"
   ]
  },
  {
   "cell_type": "code",
   "execution_count": 8,
   "id": "819ed2ef",
   "metadata": {},
   "outputs": [
    {
     "ename": "ImportError",
     "evalue": "cannot import name 'get_active_netwrok' from 'moccasin.config' (c:\\programming\\algo-trading\\Algo-Trading\\MoxProjectAlgoTrading\\.venv\\Lib\\site-packages\\moccasin\\config.py)",
     "output_type": "error",
     "traceback": [
      "\u001b[31m---------------------------------------------------------------------------\u001b[39m",
      "\u001b[31mImportError\u001b[39m                               Traceback (most recent call last)",
      "\u001b[36mCell\u001b[39m\u001b[36m \u001b[39m\u001b[32mIn[8]\u001b[39m\u001b[32m, line 1\u001b[39m\n\u001b[32m----> \u001b[39m\u001b[32m1\u001b[39m \u001b[38;5;28;01mfrom\u001b[39;00m\u001b[38;5;250m \u001b[39m\u001b[34;01mmoccasin\u001b[39;00m\u001b[34;01m.\u001b[39;00m\u001b[34;01mconfig\u001b[39;00m\u001b[38;5;250m \u001b[39m\u001b[38;5;28;01mimport\u001b[39;00m get_active_netwrok\n\u001b[32m      2\u001b[39m active_netwrok = get_active_netwrok\n\u001b[32m      3\u001b[39m \u001b[38;5;28mprint\u001b[39m(active_netwrok)\n",
      "\u001b[31mImportError\u001b[39m: cannot import name 'get_active_netwrok' from 'moccasin.config' (c:\\programming\\algo-trading\\Algo-Trading\\MoxProjectAlgoTrading\\.venv\\Lib\\site-packages\\moccasin\\config.py)"
     ]
    }
   ],
   "source": [
    "from moccasin.config import get_active_netwrok\n",
    "active_netwrok = get_active_netwrok\n",
    "print(active_netwrok)"
   ]
  },
  {
   "cell_type": "code",
   "execution_count": 6,
   "id": "d7793630",
   "metadata": {},
   "outputs": [
    {
     "name": "stdout",
     "output_type": "stream",
     "text": [
      "Starting setup script...\n"
     ]
    },
    {
     "ename": "ValueError",
     "evalue": "Global Config object not initialized, initialize with initialize_global_config",
     "output_type": "error",
     "traceback": [
      "\u001b[31m---------------------------------------------------------------------------\u001b[39m",
      "\u001b[31mValueError\u001b[39m                                Traceback (most recent call last)",
      "\u001b[36mCell\u001b[39m\u001b[36m \u001b[39m\u001b[32mIn[6]\u001b[39m\u001b[32m, line 43\u001b[39m\n\u001b[32m     40\u001b[39m \u001b[38;5;28;01mdef\u001b[39;00m\u001b[38;5;250m \u001b[39m\u001b[34mmoccasin_main\u001b[39m():\n\u001b[32m     41\u001b[39m     setup_script()\n\u001b[32m---> \u001b[39m\u001b[32m43\u001b[39m \u001b[43mmoccasin_main\u001b[49m\u001b[43m(\u001b[49m\u001b[43m)\u001b[49m\n",
      "\u001b[36mCell\u001b[39m\u001b[36m \u001b[39m\u001b[32mIn[6]\u001b[39m\u001b[32m, line 41\u001b[39m, in \u001b[36mmoccasin_main\u001b[39m\u001b[34m()\u001b[39m\n\u001b[32m     40\u001b[39m \u001b[38;5;28;01mdef\u001b[39;00m\u001b[38;5;250m \u001b[39m\u001b[34mmoccasin_main\u001b[39m():\n\u001b[32m---> \u001b[39m\u001b[32m41\u001b[39m     \u001b[43msetup_script\u001b[49m\u001b[43m(\u001b[49m\u001b[43m)\u001b[49m\n",
      "\u001b[36mCell\u001b[39m\u001b[36m \u001b[39m\u001b[32mIn[6]\u001b[39m\u001b[32m, line 31\u001b[39m, in \u001b[36msetup_script\u001b[39m\u001b[34m()\u001b[39m\n\u001b[32m     28\u001b[39m \u001b[38;5;28;01mdef\u001b[39;00m\u001b[38;5;250m \u001b[39m\u001b[34msetup_script\u001b[39m() -> Tuple[ABIContract, ABIContract,ABIContract,ABIContract]:\n\u001b[32m     29\u001b[39m     \u001b[38;5;28mprint\u001b[39m(\u001b[33m\"\u001b[39m\u001b[33mStarting setup script...\u001b[39m\u001b[33m\"\u001b[39m)\n\u001b[32m---> \u001b[39m\u001b[32m31\u001b[39m     active_netwrork = \u001b[43mget_active_network\u001b[49m\u001b[43m(\u001b[49m\u001b[43m)\u001b[49m\n\u001b[32m     33\u001b[39m     usdc = active_netwrork.manifest_named(\u001b[33m\"\u001b[39m\u001b[33musdc\u001b[39m\u001b[33m\"\u001b[39m)\n\u001b[32m     34\u001b[39m     weth = active_netwrork.manifest_named(\u001b[33m\"\u001b[39m\u001b[33mweth\u001b[39m\u001b[33m\"\u001b[39m)\n",
      "\u001b[36mFile \u001b[39m\u001b[32mc:\\programming\\algo-trading\\Algo-Trading\\MoxProjectAlgoTrading\\.venv\\Lib\\site-packages\\moccasin\\config.py:2203\u001b[39m, in \u001b[36mget_active_network\u001b[39m\u001b[34m()\u001b[39m\n\u001b[32m   2202\u001b[39m \u001b[38;5;28;01mdef\u001b[39;00m\u001b[38;5;250m \u001b[39m\u001b[34mget_active_network\u001b[39m() -> Network:\n\u001b[32m-> \u001b[39m\u001b[32m2203\u001b[39m     \u001b[38;5;28;01mreturn\u001b[39;00m \u001b[43mget_config\u001b[49m\u001b[43m(\u001b[49m\u001b[43m)\u001b[49m.get_active_network()\n",
      "\u001b[36mFile \u001b[39m\u001b[32mc:\\programming\\algo-trading\\Algo-Trading\\MoxProjectAlgoTrading\\.venv\\Lib\\site-packages\\moccasin\\config.py:2218\u001b[39m, in \u001b[36mget_config\u001b[39m\u001b[34m()\u001b[39m\n\u001b[32m   2216\u001b[39m \u001b[38;5;28;01mglobal\u001b[39;00m _config\n\u001b[32m   2217\u001b[39m \u001b[38;5;28;01mif\u001b[39;00m _config \u001b[38;5;129;01mis\u001b[39;00m \u001b[38;5;28;01mNone\u001b[39;00m:\n\u001b[32m-> \u001b[39m\u001b[32m2218\u001b[39m     \u001b[38;5;28;01mraise\u001b[39;00m \u001b[38;5;167;01mValueError\u001b[39;00m(\n\u001b[32m   2219\u001b[39m         \u001b[33m\"\u001b[39m\u001b[33mGlobal Config object not initialized, initialize with initialize_global_config\u001b[39m\u001b[33m\"\u001b[39m\n\u001b[32m   2220\u001b[39m     )\n\u001b[32m   2221\u001b[39m \u001b[38;5;28;01mreturn\u001b[39;00m _config\n",
      "\u001b[31mValueError\u001b[39m: Global Config object not initialized, initialize with initialize_global_config"
     ]
    }
   ],
   "source": [
    "from boa.contracts.abi.abi_contract import ABIContract\n",
    "from typing import Tuple\n",
    "from moccasin.config import get_active_network\n",
    "import boa \n",
    "\n",
    "STARTING_ETH_BALANCE = int(1000e18)\n",
    "STARTING_WETH_BALANCE = int(1e18)\n",
    "STARTING_USDC_BALANCE = int(100e6)\n",
    "\n",
    "def _add_eth_balance():\n",
    "    boa.env.set_balance(boa.env.eoa, STARTING_ETH_BALANCE)\n",
    "\n",
    "def _add_token_balance(usdc, weth):\n",
    "    print(f\"Starting balance of the weth: {weth.balanceOf(boa.env.eoa)}\")\n",
    "    weth.deposit(value = STARTING_WETH_BALANCE)\n",
    "    our_address = boa.env.eoa\n",
    "    with boa.env.prank(usdc.owner()):\n",
    "        usdc.updateMasterMinter(our_address)\n",
    "\n",
    "    usdc.configureMinter(our_address, STARTING_USDC_BALANCE)\n",
    "    usdc.mint(our_address, STARTING_USDC_BALANCE)\n",
    "    print(\"After deposit:\")\n",
    "    print(\"ETH:\", boa.env.get_balance(boa.env.eoa))\n",
    "    print(\"WETH:\", weth.balanceOf(boa.env.eoa))\n",
    "    print(\"USDC:\", usdc.balanceOf(boa.env.eoa))\n",
    "    \n",
    "\n",
    "def setup_script() -> Tuple[ABIContract, ABIContract,ABIContract,ABIContract]:\n",
    "    print(\"Starting setup script...\")\n",
    "\n",
    "    active_netwrork = get_active_network()\n",
    "\n",
    "    usdc = active_netwrork.manifest_named(\"usdc\")\n",
    "    weth = active_netwrork.manifest_named(\"weth\")\n",
    "\n",
    "    if active_netwrork.is_local_or_forked_network():\n",
    "        _add_eth_balance()\n",
    "        _add_token_balance(usdc,weth)\n",
    "\n",
    "def moccasin_main():\n",
    "    setup_script()\n",
    "\n",
    "moccasin_main()"
   ]
  },
  {
   "cell_type": "code",
   "execution_count": null,
   "id": "090333d4",
   "metadata": {},
   "outputs": [],
   "source": [
    "usdc = active_netwrork.manifest_named(\"usdc\")\n",
    "weth = active_netwrork.manifest_named(\"weth\")"
   ]
  },
  {
   "cell_type": "code",
   "execution_count": null,
   "id": "a7c26ed9",
   "metadata": {},
   "outputs": [
    {
     "name": "stdout",
     "output_type": "stream",
     "text": [
      "0x87870Bca3F3fD6335C3F4ce8392D69350B4fA4E2\n"
     ]
    }
   ],
   "source": [
    "from moccasin.config import get_config\n",
    "config= get_config()\n",
    "config.reload()\n",
    "active_netwrork = config.get_active_network()\n",
    "aavev3_pool_addresses_provider = active_netwrork.manifest_named(\"aavev3_pool_addresses_provider\")\n",
    "pool_address = aavev3_pool_addresses_provider.getPool()\n",
    "print(pool_address)"
   ]
  },
  {
   "cell_type": "code",
   "execution_count": null,
   "id": "541d969d",
   "metadata": {},
   "outputs": [],
   "source": [
    "config.reload()\n",
    "active_netwrork = config.get_active_network()\n",
    "pool_contract = active_netwrork.manifest_named(\"pool\", address = pool_address)"
   ]
  },
  {
   "cell_type": "code",
   "execution_count": null,
   "id": "788b0918",
   "metadata": {},
   "outputs": [
    {
     "name": "stdout",
     "output_type": "stream",
     "text": [
      "User Account Data \n",
      " totalCollateralBase = 795747514812, \n",
      " totalDebtBase = 0, \n",
      " availableBorrowsBase = 638905679643 \n",
      " currentLiquidationThreshold = 8281 \n",
      " ltv = 8029 \n",
      " healthFactor = 115792089237316195423570985008687907853269984665640564039457584007913129639935\n"
     ]
    }
   ],
   "source": [
    "REFFERAL_CODE = 0\n",
    "def deposit(pool_contract, token, amount):\n",
    "    allowed_amout = token.allowance(boa.env.eoa, pool_contract.address)\n",
    "    if allowed_amout < amount:\n",
    "        token.approve(pool_contract.address, amount)\n",
    "    print(f\"Depositing {token.name()} into Aave contract {pool_contract.address}\")\n",
    "    pool_contract.supply(token.address, amount, boa.env.eoa, REFFERAL_CODE)\n",
    "\n",
    "usdc_balance = usdc.balanceOf(boa.env.eoa)\n",
    "weth_balance = weth.balanceOf(boa.env.eoa)\n",
    "if usdc_balance > 0:\n",
    "    deposit(pool_contract, usdc, usdc_balance)\n",
    "\n",
    "if weth_balance > 0:\n",
    "    deposit(pool_contract, weth, weth_balance)\n",
    "\n",
    "(totalCollateralBase,   \n",
    "totalDebtBase,   \n",
    "availableBorrowsBase,\n",
    "currentLiquidationThreshold, \n",
    "ltv,    \n",
    "healthFactor) = pool_contract.getUserAccountData(boa.env.eoa)\n",
    "print(f\"User Account Data \\n totalCollateralBase = {totalCollateralBase}, \\n totalDebtBase = {totalDebtBase}, \\n availableBorrowsBase = {availableBorrowsBase} \\n currentLiquidationThreshold = {currentLiquidationThreshold} \\n ltv = {ltv} \\n healthFactor = {healthFactor}\")\n",
    "\n"
   ]
  },
  {
   "cell_type": "code",
   "execution_count": null,
   "id": "f204537f",
   "metadata": {},
   "outputs": [
    {
     "name": "stdout",
     "output_type": "stream",
     "text": [
      "[getAllATokens(symbol='aEthWETH', tokenAddress=Address('0x4d5F47FA6A74757f35C14fD3a6Ef8E3C9BC514E8')), getAllATokens(symbol='aEthwstETH', tokenAddress=Address('0x0B925eD163218f6662a35e0f0371Ac234f9E9371')), getAllATokens(symbol='aEthWBTC', tokenAddress=Address('0x5Ee5bf7ae06D1Be5997A1A72006FE6C607eC6DE8')), getAllATokens(symbol='aEthUSDC', tokenAddress=Address('0x98C23E9d8f34FEFb1B7BD6a91B7FF122F4e16F5c')), getAllATokens(symbol='aEthDAI', tokenAddress=Address('0x018008bfb33d285247A21d44E50697654f754e63')), getAllATokens(symbol='aEthLINK', tokenAddress=Address('0x5E8C8A7243651DB1384C0dDfDbE39761E8e7E51a')), getAllATokens(symbol='aEthAAVE', tokenAddress=Address('0xA700b4eB416Be35b2911fd5Dee80678ff64fF6C9')), getAllATokens(symbol='aEthcbETH', tokenAddress=Address('0x977b6fc5dE62598B08C85AC8Cf2b745874E8b78c')), getAllATokens(symbol='aEthUSDT', tokenAddress=Address('0x23878914EFE38d27C4D67Ab83ed1b93A74D4086a')), getAllATokens(symbol='aEthrETH', tokenAddress=Address('0xCc9EE9483f662091a1de4795249E24aC0aC2630f')), getAllATokens(symbol='aEthLUSD', tokenAddress=Address('0x3Fe6a295459FAe07DF8A0ceCC36F37160FE86AA9')), getAllATokens(symbol='aEthCRV', tokenAddress=Address('0x7B95Ec873268a6BFC6427e7a28e396Db9D0ebc65')), getAllATokens(symbol='aEthMKR', tokenAddress=Address('0x8A458A9dc9048e005d22849F470891b840296619')), getAllATokens(symbol='aEthSNX', tokenAddress=Address('0xC7B4c17861357B8ABB91F25581E7263E08DCB59c')), getAllATokens(symbol='aEthBAL', tokenAddress=Address('0x2516E7B3F76294e03C42AA4c5b5b4DCE9C436fB8')), getAllATokens(symbol='aEthUNI', tokenAddress=Address('0xF6D2224916DDFbbab6e6bd0D1B7034f4Ae0CaB18')), getAllATokens(symbol='aEthLDO', tokenAddress=Address('0x9A44fd41566876A39655f74971a3A6eA0a17a454')), getAllATokens(symbol='aEthENS', tokenAddress=Address('0x545bD6c032eFdde65A377A6719DEF2796C8E0f2e')), getAllATokens(symbol='aEth1INCH', tokenAddress=Address('0x71Aef7b30728b9BB371578f36c5A1f1502a5723e')), getAllATokens(symbol='aEthFRAX', tokenAddress=Address('0xd4e245848d6E1220DBE62e155d89fa327E43CB06')), getAllATokens(symbol='aEthGHO', tokenAddress=Address('0x00907f9921424583e7ffBfEdf84F92B7B2Be4977')), getAllATokens(symbol='aEthRPL', tokenAddress=Address('0xB76CF92076adBF1D9C39294FA8e7A67579FDe357')), getAllATokens(symbol='aEthsDAI', tokenAddress=Address('0x4C612E3B15b96Ff9A6faED838F8d07d479a8dD4c')), getAllATokens(symbol='aEthSTG', tokenAddress=Address('0x1bA9843bD4327c6c77011406dE5fA8749F7E3479')), getAllATokens(symbol='aEthKNC', tokenAddress=Address('0x5b502e3796385E1e9755d7043B9C945C3aCCeC9C')), getAllATokens(symbol='aEthFXS', tokenAddress=Address('0x82F9c5ad306BBa1AD0De49bB5FA6F01bf61085ef')), getAllATokens(symbol='aEthcrvUSD', tokenAddress=Address('0xb82fa9f31612989525992FCfBB09AB22Eff5c85A')), getAllATokens(symbol='aEthPYUSD', tokenAddress=Address('0x0C0d01AbF3e6aDfcA0989eBbA9d6e85dD58EaB1E')), getAllATokens(symbol='aEthweETH', tokenAddress=Address('0xBdfa7b7893081B35Fb54027489e2Bc7A38275129')), getAllATokens(symbol='aEthosETH', tokenAddress=Address('0x927709711794F3De5DdBF1D176bEE2D55Ba13c21')), getAllATokens(symbol='aEthUSDe', tokenAddress=Address('0x4F5923Fc5FD4a93352581b38B7cD26943012DECF')), getAllATokens(symbol='aEthETHx', tokenAddress=Address('0x1c0E06a0b1A4c160c17545FF2A951bfcA57C0002')), getAllATokens(symbol='aEthsUSDe', tokenAddress=Address('0x4579a27aF00A62C0EB156349f31B345c08386419')), getAllATokens(symbol='aEthtBTC', tokenAddress=Address('0x10Ac93971cdb1F5c778144084242374473c350Da')), getAllATokens(symbol='aEthcbBTC', tokenAddress=Address('0x5c647cE0Ae10658ec44FA4E11A51c96e94efd1Dd')), getAllATokens(symbol='aEthUSDS', tokenAddress=Address('0x32a6268f9Ba3642Dda7892aDd74f1D34469A4259')), getAllATokens(symbol='aEthrsETH', tokenAddress=Address('0x2D62109243b87C4bA3EE7bA1D91B0dD0A074d7b1')), getAllATokens(symbol='aEthLBTC', tokenAddress=Address('0x65906988ADEe75306021C417a1A3458040239602')), getAllATokens(symbol='aEtheBTC', tokenAddress=Address('0x5fefd7069a7D91d01f269DADE14526CCF3487810')), getAllATokens(symbol='aEthRLUSD', tokenAddress=Address('0xFa82580c16A31D0c1bC632A36F82e83EfEF3Eec0')), getAllATokens(symbol='aEthPT_eUSDE_29MAY2025', tokenAddress=Address('0x4B0821e768Ed9039a70eD1E80E15E76a5bE5Df5F')), getAllATokens(symbol='aEthPT_sUSDE_31JUL2025', tokenAddress=Address('0xDE6eF6CB4aBd3A473ffC2942eEf5D84536F8E864')), getAllATokens(symbol='aEthUSDtb', tokenAddress=Address('0xEc4ef66D4fCeEba34aBB4dE69dB391Bc5476ccc8'))]\n"
     ]
    }
   ],
   "source": [
    "config.reload()\n",
    "active_netwrork = config.get_active_network()\n",
    "aave_protocol_data_provider = active_netwrork.manifest_named(\"aave_protocol_data_provider\")\n",
    "a_tokens = aave_protocol_data_provider.getAllATokens()\n",
    "print(a_tokens)"
   ]
  },
  {
   "cell_type": "code",
   "execution_count": null,
   "id": "a0df2c94",
   "metadata": {},
   "outputs": [
    {
     "name": "stdout",
     "output_type": "stream",
     "text": [
      "<usdc interface at 0x98C23E9d8f34FEFb1B7BD6a91B7FF122F4e16F5c>\n",
      "<usdc interface at 0x4d5F47FA6A74757f35C14fD3a6Ef8E3C9BC514E8>\n"
     ]
    }
   ],
   "source": [
    "for a_token in a_tokens:\n",
    "    if \"WETH\" in a_token[0]:\n",
    "        a_weth = active_netwrork.manifest_named('usdc', address = a_token[1])\n",
    "    if \"USDC\" in a_token[0]:\n",
    "        a_usdc = active_netwrork.manifest_named('usdc', address = a_token[1])\n",
    "\n",
    "print(a_usdc)\n",
    "print(a_weth)"
   ]
  },
  {
   "cell_type": "code",
   "execution_count": null,
   "id": "7fe8dbd7",
   "metadata": {},
   "outputs": [
    {
     "name": "stdout",
     "output_type": "stream",
     "text": [
      "300.0\n",
      "3.0\n"
     ]
    }
   ],
   "source": [
    "a_usdc_balance = a_usdc.balanceOf(boa.env.eoa)\n",
    "a_weth_balance = a_weth.balanceOf(boa.env.eoa)\n",
    "print(a_usdc_balance / 1000000)\n",
    "print(a_weth_balance / 1000000000000000000)"
   ]
  }
 ],
 "metadata": {
  "kernelspec": {
   "display_name": ".venv",
   "language": "python",
   "name": "python3"
  },
  "language_info": {
   "codemirror_mode": {
    "name": "ipython",
    "version": 3
   },
   "file_extension": ".py",
   "mimetype": "text/x-python",
   "name": "python",
   "nbconvert_exporter": "python",
   "pygments_lexer": "ipython3",
   "version": "3.12.5"
  }
 },
 "nbformat": 4,
 "nbformat_minor": 5
}
